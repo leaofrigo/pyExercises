{
 "cells": [
  {
   "cell_type": "markdown",
   "metadata": {},
   "source": [
    "# Python challenges\n",
    "\n",
    "Compilation of Python exercises proposed by Barron Stone (Python Code Challenges Course)"
   ]
  },
  {
   "cell_type": "markdown",
   "metadata": {},
   "source": [
    "#### Challenge 01: Find prime factors\n",
    "Create a function that receives an integers and find all prime factors that composes the given integer"
   ]
  },
  {
   "cell_type": "code",
   "execution_count": 89,
   "metadata": {},
   "outputs": [
    {
     "name": "stdout",
     "output_type": "stream",
     "text": [
      "Prime factors: [2, 2, 3, 5]\n"
     ]
    }
   ],
   "source": [
    "def get_primes(n):\n",
    "    primes=[]\n",
    "    divisor=2\n",
    "    while divisor <= n:\n",
    "        if (n % divisor) == 0:\n",
    "            primes.append(divisor)\n",
    "            n = n/divisor\n",
    "        else:\n",
    "            divisor +=1\n",
    "    return primes\n",
    "\n",
    "# check primes for 60\n",
    "numb2check=60\n",
    "print ('Prime factors:',get_primes(numb2check))\n",
    "\n",
    "    "
   ]
  },
  {
   "cell_type": "markdown",
   "metadata": {},
   "source": [
    "#### Challenge 02: Identify a palindrome\n",
    "Write a function to check if a given string is a palyndrome (only letters and ignore upper/lower cases)"
   ]
  },
  {
   "cell_type": "code",
   "execution_count": 107,
   "metadata": {},
   "outputs": [
    {
     "name": "stdout",
     "output_type": "stream",
     "text": [
      "Is a palyndrome? True\n"
     ]
    }
   ],
   "source": [
    "def check_palyndrome(s):\n",
    "    # set lower case for the str\n",
    "    input_str = s.lower()\n",
    "    # remove spaces from the str\n",
    "    input_str = input_str.replace(\" \",\"\")\n",
    "    # check if palyndrome\n",
    "    check = (input_str == input_str[::-1])\n",
    "    return check\n",
    "\n",
    "# check palyndrome\n",
    "string='MAMAM'\n",
    "print ('Is a palyndrome?',check_palyndrome(string) )\n"
   ]
  },
  {
   "cell_type": "markdown",
   "metadata": {},
   "source": [
    "#### Challenge 03: Sort a string\n",
    "Write a function to sort all words in a string and return them alphabetically"
   ]
  },
  {
   "cell_type": "code",
   "execution_count": 115,
   "metadata": {},
   "outputs": [
    {
     "name": "stdout",
     "output_type": "stream",
     "text": [
      "List with words in string: ['bixo', 'doido', 'eh', 'macaco', 'um']\n"
     ]
    }
   ],
   "source": [
    "def sort_string(s):\n",
    "    # strip words from string\n",
    "    input_str = sorted(s.split(),key=str.lower)\n",
    "    return input_str\n",
    "\n",
    "# check sorted string\n",
    "string='macaco eh um bixo doido'\n",
    "print ('List with words in string:',sort_string(string) )\n"
   ]
  },
  {
   "cell_type": "markdown",
   "metadata": {},
   "source": [
    "#### Challenge 04: Find all list items\n",
    "Return a list with all indexes for a given value in a list"
   ]
  },
  {
   "cell_type": "code",
   "execution_count": 109,
   "metadata": {},
   "outputs": [
    {
     "data": {
      "text/plain": [
       "[[0], [2, 1], [5, 1], [6], [7, 2, 0], [8, 0, 0, 0, 1]]"
      ]
     },
     "execution_count": 109,
     "metadata": {},
     "output_type": "execute_result"
    }
   ],
   "source": [
    "def get_index(l,s):\n",
    "    # input list\n",
    "    iL=l\n",
    "    # input value\n",
    "    idata=s\n",
    "    # output list \n",
    "    indices=[]\n",
    "    # get index\n",
    "    for i in range(len(iL)):\n",
    "        if idata == iL[i]:\n",
    "            indices.append([i])\n",
    "        # recursion when we have nested lists\n",
    "        elif isinstance(iL[i],list):\n",
    "            for index in get_index(iL[i],idata):\n",
    "                indices.append([i]+index)\n",
    "    return indices\n",
    "\n",
    "# check function\n",
    "inputList=[2,'1',[1,2,3],'STRING','STRONG',['Hello World',2,5,3],2,[1,3,[2]],[[[[1,2]]]]]\n",
    "checkVal=2\n",
    "checkFunc=get_index(inputList,checkVal)\n",
    "\n",
    "checkFunc"
   ]
  },
  {
   "cell_type": "markdown",
   "metadata": {},
   "source": [
    "#### Challenge 05: Waiting game\n",
    "Game where the user has to press enter to start and stop a timer and guess how much time passed"
   ]
  },
  {
   "cell_type": "code",
   "execution_count": 176,
   "metadata": {},
   "outputs": [],
   "source": [
    "import time\n",
    "import random\n",
    "\n",
    "def waiting_game():\n",
    "    random_time=random.randint(1,10)\n",
    "    print ('Waiting Game')\n",
    "    print ('\\n Your time goal is {} seconds'.format(random_time))\n",
    "    print('\\n Press enter to start and stop the timer')\n",
    "    input()\n",
    "    start_time = time.perf_counter()\n",
    "    input()\n",
    "    elapsed = time.perf_counter() - start_time\n",
    "    print ('\\n Elapsed time: {0:.3f} seconds'.format(elapsed))\n",
    "\n",
    "# call the function\n",
    "waiting_game()"
   ]
  },
  {
   "cell_type": "markdown",
   "metadata": {},
   "source": [
    "#### Challenge 04: Save a dictionary\n",
    "Save a dictionary as a file and read it later"
   ]
  },
  {
   "cell_type": "code",
   "execution_count": 200,
   "metadata": {},
   "outputs": [],
   "source": [
    "# using json files\n",
    "\n",
    "import json\n",
    "import ast\n",
    "\n",
    "# function to save the dictionary to a json file\n",
    "def save_dict(input_dict):\n",
    "    input_dict = input_dict\n",
    "    save_file = open(\"data.json\", \"w\")\n",
    "    json.dump(input_dict, save_file)\n",
    "    save_file.close()\n",
    "\n",
    "# create the test dictionary\n",
    "dictionary={'name': 'Duas Meias', 'age': 11, 'color': 'salt and pepper'}\n",
    "\n",
    "# call the function to save the dictionary to a file \n",
    "save_dict(dictionary)\n",
    "\n",
    "# load the saved dictionary \n",
    "dict2open = open(\"data.json\", \"r\")\n",
    "dict2open = dict2open.read()   "
   ]
  },
  {
   "cell_type": "code",
   "execution_count": 211,
   "metadata": {},
   "outputs": [],
   "source": [
    "# using pickle\n",
    "\n",
    "import pickle\n",
    "\n",
    "# function to save dictionary\n",
    "def save_dict (input_dict,file_path):\n",
    "    with open(file_path,'wb') as file:\n",
    "        pickle.dump(input_dict,file)\n",
    "\n",
    "# function to load saved dictionary\n",
    "def load_dict(file_path):\n",
    "    with open(file_path,'rb') as file:\n",
    "        return pickle.load(file)\n",
    "\n",
    "# create the test dictionary\n",
    "dictionary={'name': 'Duas Meias', 'age': 11, 'color': 'salt and pepper'}\n",
    "file_path = 'test_dict.pickle'\n",
    "\n",
    "# call function to save dictionary\n",
    "save_dict(dictionary,file_path)\n",
    "\n",
    "# call function to load saved dictionary\n",
    "recovered=load_dict(file_path)"
   ]
  },
  {
   "cell_type": "markdown",
   "metadata": {},
   "source": [
    "#### Challenge 05: Create an alarm\n",
    "Create an alarm where inputs are time, sound file and message"
   ]
  },
  {
   "cell_type": "code",
   "execution_count": 246,
   "metadata": {},
   "outputs": [
    {
     "name": "stdout",
     "output_type": "stream",
     "text": [
      "Alarm set for Thu Mar 25 19:35:44 2021\n"
     ]
    }
   ],
   "source": [
    "import sched, time\n",
    "import pygame \n",
    "\n",
    "def alarm(alarm_time,message):\n",
    "    # load wav file for alarm\n",
    "    pygame.mixer.init()\n",
    "    pygame.mixer.music.load(\"src/alarm_file.wav\")\n",
    "    \n",
    "    # python inbuilt scheduler\n",
    "    s = sched.scheduler(time.time, time.sleep)\n",
    "    s.enterabs(alarm_time,1,print,argument=(message,))\n",
    "    s.enterabs(alarm_time,1, pygame.mixer.music.play())\n",
    "    print('Alarm set for',time.asctime(time.localtime(alarm_time)))\n",
    "    s.run\n",
    "    \n",
    "alarm(time.time()+1,'Acorda')"
   ]
  },
  {
   "cell_type": "code",
   "execution_count": null,
   "metadata": {},
   "outputs": [],
   "source": []
  },
  {
   "cell_type": "code",
   "execution_count": null,
   "metadata": {},
   "outputs": [],
   "source": []
  }
 ],
 "metadata": {
  "kernelspec": {
   "display_name": "py3env",
   "language": "python",
   "name": "py3env"
  },
  "language_info": {
   "codemirror_mode": {
    "name": "ipython",
    "version": 3
   },
   "file_extension": ".py",
   "mimetype": "text/x-python",
   "name": "python",
   "nbconvert_exporter": "python",
   "pygments_lexer": "ipython3",
   "version": "3.6.10"
  }
 },
 "nbformat": 4,
 "nbformat_minor": 2
}
