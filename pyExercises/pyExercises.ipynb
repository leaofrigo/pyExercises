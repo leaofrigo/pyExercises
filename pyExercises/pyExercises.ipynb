{
 "cells": [
  {
   "cell_type": "markdown",
   "metadata": {},
   "source": [
    "# Python challenges\n",
    "\n",
    "Compilation of Python exercises proposed by Barron Stone (Python Code Challenges Course)"
   ]
  },
  {
   "cell_type": "markdown",
   "metadata": {},
   "source": [
    "#### Challenge 01: Find prime factors\n",
    "Create a function that receives an integers and find all prime factors that composes the given integer"
   ]
  },
  {
   "cell_type": "code",
   "execution_count": 89,
   "metadata": {},
   "outputs": [
    {
     "name": "stdout",
     "output_type": "stream",
     "text": [
      "Prime factors: [2, 2, 3, 5]\n"
     ]
    }
   ],
   "source": [
    "def get_primes(n):\n",
    "    primes=[]\n",
    "    divisor=2\n",
    "    while divisor <= n:\n",
    "        if (n % divisor) == 0:\n",
    "            primes.append(divisor)\n",
    "            n = n/divisor\n",
    "        else:\n",
    "            divisor +=1\n",
    "    return primes\n",
    "\n",
    "# check primes for 60\n",
    "numb2check=60\n",
    "print ('Prime factors:',get_primes(numb2check))\n",
    "\n",
    "    "
   ]
  },
  {
   "cell_type": "markdown",
   "metadata": {},
   "source": [
    "#### Challenge 02: Identify a palindrome\n",
    "Write a function to check if a given string is a palyndrome (only letters and ignore upper/lower cases)"
   ]
  },
  {
   "cell_type": "code",
   "execution_count": 107,
   "metadata": {},
   "outputs": [
    {
     "name": "stdout",
     "output_type": "stream",
     "text": [
      "Is a palyndrome? True\n"
     ]
    }
   ],
   "source": [
    "def check_palyndrome(s):\n",
    "    # set lower case for the str\n",
    "    input_str = s.lower()\n",
    "    # remove spaces from the str\n",
    "    input_str = input_str.replace(\" \",\"\")\n",
    "    # check if palyndrome\n",
    "    check = (input_str == input_str[::-1])\n",
    "    return check\n",
    "\n",
    "# check palyndrome\n",
    "string='MAMAM'\n",
    "print ('Is a palyndrome?',check_palyndrome(string) )\n"
   ]
  },
  {
   "cell_type": "markdown",
   "metadata": {},
   "source": [
    "#### Challenge 03: Sort a string\n",
    "Write a function to sort all words in a string and return them alphabetically"
   ]
  },
  {
   "cell_type": "code",
   "execution_count": 115,
   "metadata": {},
   "outputs": [
    {
     "name": "stdout",
     "output_type": "stream",
     "text": [
      "List with words in string: ['bixo', 'doido', 'eh', 'macaco', 'um']\n"
     ]
    }
   ],
   "source": [
    "def sort_string(s):\n",
    "    # strip words from string\n",
    "    input_str = sorted(s.split(),key=str.lower)\n",
    "    return input_str\n",
    "\n",
    "# check sorted string\n",
    "string='macaco eh um bixo doido'\n",
    "print ('List with words in string:',sort_string(string) )\n"
   ]
  },
  {
   "cell_type": "markdown",
   "metadata": {},
   "source": [
    "#### Challenge 04: Find all list items\n",
    "Return a list with all indexes for a given value in a list"
   ]
  },
  {
   "cell_type": "code",
   "execution_count": 109,
   "metadata": {},
   "outputs": [
    {
     "data": {
      "text/plain": [
       "[[0], [2, 1], [5, 1], [6], [7, 2, 0], [8, 0, 0, 0, 1]]"
      ]
     },
     "execution_count": 109,
     "metadata": {},
     "output_type": "execute_result"
    }
   ],
   "source": [
    "def get_index(l,s):\n",
    "    # input list\n",
    "    iL=l\n",
    "    # input value\n",
    "    idata=s\n",
    "    # output list \n",
    "    indices=[]\n",
    "    # get index\n",
    "    for i in range(len(iL)):\n",
    "        if idata == iL[i]:\n",
    "            indices.append([i])\n",
    "        # recursion when we have nested lists\n",
    "        elif isinstance(iL[i],list):\n",
    "            for index in get_index(iL[i],idata):\n",
    "                indices.append([i]+index)\n",
    "    return indices\n",
    "\n",
    "# check function\n",
    "inputList=[2,'1',[1,2,3],'STRING','STRONG',['Hello World',2,5,3],2,[1,3,[2]],[[[[1,2]]]]]\n",
    "checkVal=2\n",
    "checkFunc=get_index(inputList,checkVal)\n",
    "\n",
    "checkFunc"
   ]
  },
  {
   "cell_type": "markdown",
   "metadata": {},
   "source": [
    "#### Challenge 05: Waiting game\n",
    "Game where the user has to press enter to start and stop a timer and guess how much time passed"
   ]
  },
  {
   "cell_type": "code",
   "execution_count": 176,
   "metadata": {},
   "outputs": [],
   "source": [
    "import time\n",
    "import random\n",
    "\n",
    "def waiting_game():\n",
    "    random_time=random.randint(1,10)\n",
    "    print ('Waiting Game')\n",
    "    print ('\\n Your time goal is {} seconds'.format(random_time))\n",
    "    print('\\n Press enter to start and stop the timer')\n",
    "    input()\n",
    "    start_time = time.perf_counter()\n",
    "    input()\n",
    "    elapsed = time.perf_counter() - start_time\n",
    "    print ('\\n Elapsed time: {0:.3f} seconds'.format(elapsed))\n",
    "\n",
    "# call the function\n",
    "waiting_game()"
   ]
  },
  {
   "cell_type": "markdown",
   "metadata": {},
   "source": [
    "#### Challenge 04: Save a dictionary\n",
    "Save a dictionary as a file and read it later"
   ]
  },
  {
   "cell_type": "code",
   "execution_count": 200,
   "metadata": {},
   "outputs": [],
   "source": [
    "# using json files\n",
    "\n",
    "import json\n",
    "import ast\n",
    "\n",
    "# function to save the dictionary to a json file\n",
    "def save_dict(input_dict):\n",
    "    input_dict = input_dict\n",
    "    save_file = open(\"data.json\", \"w\")\n",
    "    json.dump(input_dict, save_file)\n",
    "    save_file.close()\n",
    "\n",
    "# create the test dictionary\n",
    "dictionary={'name': 'Duas Meias', 'age': 11, 'color': 'salt and pepper'}\n",
    "\n",
    "# call the function to save the dictionary to a file \n",
    "save_dict(dictionary)\n",
    "\n",
    "# load the saved dictionary \n",
    "dict2open = open(\"data.json\", \"r\")\n",
    "dict2open = dict2open.read()   "
   ]
  },
  {
   "cell_type": "code",
   "execution_count": 211,
   "metadata": {},
   "outputs": [],
   "source": [
    "# using pickle\n",
    "\n",
    "import pickle\n",
    "\n",
    "# function to save dictionary\n",
    "def save_dict (input_dict,file_path):\n",
    "    with open(file_path,'wb') as file:\n",
    "        pickle.dump(input_dict,file)\n",
    "\n",
    "# function to load saved dictionary\n",
    "def load_dict(file_path):\n",
    "    with open(file_path,'rb') as file:\n",
    "        return pickle.load(file)\n",
    "\n",
    "# create the test dictionary\n",
    "dictionary={'name': 'Duas Meias', 'age': 11, 'color': 'salt and pepper'}\n",
    "file_path = 'test_dict.pickle'\n",
    "\n",
    "# call function to save dictionary\n",
    "save_dict(dictionary,file_path)\n",
    "\n",
    "# call function to load saved dictionary\n",
    "recovered=load_dict(file_path)"
   ]
  },
  {
   "cell_type": "markdown",
   "metadata": {},
   "source": [
    "#### Challenge 05: Create an alarm\n",
    "Create an alarm where inputs are time, sound file and message"
   ]
  },
  {
   "cell_type": "code",
   "execution_count": 246,
   "metadata": {},
   "outputs": [
    {
     "name": "stdout",
     "output_type": "stream",
     "text": [
      "Alarm set for Thu Mar 25 19:35:44 2021\n"
     ]
    }
   ],
   "source": [
    "import sched, time\n",
    "import pygame \n",
    "\n",
    "def alarm(alarm_time,message):\n",
    "    # load wav file for alarm\n",
    "    pygame.mixer.init()\n",
    "    pygame.mixer.music.load(\"src/alarm_file.wav\")\n",
    "    \n",
    "    # python inbuilt scheduler\n",
    "    s = sched.scheduler(time.time, time.sleep)\n",
    "    s.enterabs(alarm_time,1,print,argument=(message,))\n",
    "    s.enterabs(alarm_time,1, pygame.mixer.music.play())\n",
    "    print('Alarm set for',time.asctime(time.localtime(alarm_time)))\n",
    "    s.run\n",
    "    \n",
    "alarm(time.time()+1,'Acorda')"
   ]
  },
  {
   "cell_type": "markdown",
   "metadata": {},
   "source": [
    "#### Challenge 06: Send an email\n",
    "Create a script that sends an automatic email when a task is done"
   ]
  },
  {
   "cell_type": "code",
   "execution_count": 8,
   "metadata": {},
   "outputs": [],
   "source": [
    "import smtplib\n",
    "\n",
    "SENDER_EMAIL=\"sender_email@gmai.com\"\n",
    "SENDER_PASSWORD=\"sender_email\"\n",
    "\n",
    "def send_email(receiver_email,subject,body):\n",
    "    message = 'Subject: {} \\n \\n{}'.format(subject,body)\n",
    "    with smtplib.SMTP_SSL('smtp.gmail.com',465) as server:\n",
    "        server.login(SENDER_EMAIL,SENDER_PASSWORD)\n",
    "        server.sendmail(SENDER_EMAIL,receiver_email,message)\n",
    "\n",
    "# test send_email function\n",
    "receiver_email='receiver@email.com'\n",
    "message='This is an automatic email'\n",
    "subject='Automatic email'\n",
    "        \n",
    "#send_email('','automatic email','hello teste')"
   ]
  },
  {
   "cell_type": "markdown",
   "metadata": {},
   "source": [
    "#### Challenge 07: Dice challenge\n",
    "Create a script that given different dices it calculates the probability of each number"
   ]
  },
  {
   "cell_type": "code",
   "execution_count": 44,
   "metadata": {},
   "outputs": [],
   "source": [
    "from random import randint\n",
    "from collections import Counter\n",
    "\n",
    "def roll_dice(*dice,num_trials=1_000_000):\n",
    "    # counter counts the number of times each element is repeated\n",
    "    counts = Counter()\n",
    "    for roll in range(num_trials):\n",
    "        counts[sum((randint(1,sides) for sides in dice))] +=1\n",
    "\n",
    "    print ('\\nOUTCOME\\tPROBABILITY')\n",
    "    # print the result for each sorted number\n",
    "    for outcome in range(len(dice),sum(dice)+1):\n",
    "        print('{}\\t{:0.2f}%'.format(outcome,counts[outcome]*100/num_trials))\n",
    "\n",
    "# run roll_dice function        \n",
    "#roll_dice(6,6,6,6)"
   ]
  },
  {
   "cell_type": "markdown",
   "metadata": {},
   "source": [
    "#### Challenge 08: Dice challenge\n",
    "Create a script that count the number of unique words in a document and how many times each word occurs"
   ]
  },
  {
   "cell_type": "code",
   "execution_count": 30,
   "metadata": {},
   "outputs": [],
   "source": [
    "import re\n",
    "from collections import Counter\n",
    "\n",
    "def count_words(path):\n",
    "    with open(path, encoding='utf-8') as file:\n",
    "        all_words = re.findall(r\"[0-9a-zA-Z]+\",file.read())\n",
    "        all_words = [word.upper() for word in all_words]\n",
    "        print('\\n Total Words:', len(all_words))\n",
    "        \n",
    "        word_counts = Counter()\n",
    "        for word in all_words:\n",
    "            word_counts[word] +=1\n",
    "            \n",
    "        print('\\n Top 20 Words:')\n",
    "        for word in word_counts.most_common(20):\n",
    "            print(word[0], '\\t', word[1])\n",
    "            \n",
    "#count_words('src/document.txt')"
   ]
  },
  {
   "cell_type": "markdown",
   "metadata": {},
   "source": [
    "#### Challenge 09: Password challenge\n",
    "Create a script that generates a password"
   ]
  },
  {
   "cell_type": "code",
   "execution_count": 39,
   "metadata": {},
   "outputs": [
    {
     "data": {
      "text/plain": [
       "'dowel graph leeds fuji carib'"
      ]
     },
     "execution_count": 39,
     "metadata": {},
     "output_type": "execute_result"
    }
   ],
   "source": [
    "import secrets\n",
    "\n",
    "def generate_passphrase(num_words):\n",
    "    with open('src/diceware.wordlist.asc','r') as file:\n",
    "        lines = file.readlines()[2:7778]\n",
    "        word_list = [line.split()[1] for line in lines]\n",
    "        \n",
    "    words = [secrets.choice(word_list) for i in range(num_words)]\n",
    "    return ' '.join(words)\n",
    "\n",
    "generate_passphrase(5)"
   ]
  },
  {
   "cell_type": "markdown",
   "metadata": {},
   "source": [
    "#### Challenge 10: create a list-like class\n",
    "Create a script that mimics a list class"
   ]
  },
  {
   "cell_type": "code",
   "execution_count": 13,
   "metadata": {},
   "outputs": [
    {
     "name": "stdout",
     "output_type": "stream",
     "text": [
      "[]\n"
     ]
    }
   ],
   "source": [
    "class Stack:\n",
    "    def __init__(self):\n",
    "        self.items = []\n",
    "    \n",
    "    def is_empty(self):\n",
    "        return not self.items\n",
    "    \n",
    "    def push(self,item):\n",
    "        self.items.append(item)\n",
    "        \n",
    "    def pop(self):\n",
    "        return self.items.pop()\n",
    "    \n",
    "    def peek(self):\n",
    "        return self.items[-1]\n",
    "    \n",
    "    def size(self):\n",
    "        return len(self.items)\n",
    "    \n",
    "    def __str__(self):\n",
    "        return str(self.items)\n",
    "\n",
    "if __name__ == \"__main__\":\n",
    "    s = Stack()\n"
   ]
  },
  {
   "cell_type": "code",
   "execution_count": null,
   "metadata": {},
   "outputs": [],
   "source": []
  }
 ],
 "metadata": {
  "kernelspec": {
   "display_name": "py3env",
   "language": "python",
   "name": "py3env"
  },
  "language_info": {
   "codemirror_mode": {
    "name": "ipython",
    "version": 3
   },
   "file_extension": ".py",
   "mimetype": "text/x-python",
   "name": "python",
   "nbconvert_exporter": "python",
   "pygments_lexer": "ipython3",
   "version": "3.6.10"
  }
 },
 "nbformat": 4,
 "nbformat_minor": 2
}
